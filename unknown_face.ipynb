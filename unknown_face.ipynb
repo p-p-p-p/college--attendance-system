{
  "nbformat": 4,
  "nbformat_minor": 0,
  "metadata": {
    "colab": {
      "provenance": []
    },
    "kernelspec": {
      "name": "python3",
      "display_name": "Python 3"
    },
    "language_info": {
      "name": "python"
    }
  },
  "cells": [
    {
      "cell_type": "code",
      "execution_count": 1,
      "metadata": {
        "id": "sbwN7gjO_RP9"
      },
      "outputs": [],
      "source": [
        "from IPython.display import clear_output\n",
        "!pip install mediapipe\n",
        "!pip install bing-image-downloader\n",
        "!pip install deepface\n",
        "clear_output()"
      ]
    },
    {
      "cell_type": "code",
      "source": [
        "import os\n",
        "import json\n",
        "import time\n",
        "import cv2\n",
        "import numpy as np\n",
        "import mediapipe as mp\n",
        "import math\n",
        "import csv "
      ],
      "metadata": {
        "id": "j18TvK11_xaC"
      },
      "execution_count": 1,
      "outputs": []
    },
    {
      "cell_type": "code",
      "source": [
        "class FaceDetector():\n",
        "    def __init__(self, minDetectionCon=0.5):\n",
        "        self.minDetectionCon = minDetectionCon\n",
        "        self.mpDraw = mp.solutions.drawing_utils\n",
        "        self.mpFaceDetection = mp.solutions.face_detection\n",
        "        self.faceDetection = self.mpFaceDetection.FaceDetection(self.minDetectionCon, model_selection=1)\n",
        "    def findFace(self, img):\n",
        "        self.imgRGB = cv2.cvtColor(img, cv2.COLOR_BGR2RGB)\n",
        "        self.results = self.faceDetection.process(self.imgRGB)\n",
        "        faces = []\n",
        "        cropped_faces = []\n",
        "        if self.results.detections:\n",
        "            for detection in self.results.detections:\n",
        "                key_points = detection.location_data.relative_keypoints\n",
        "\n",
        "                # Get the location of the left and right eyes\n",
        "                left_eye = (\n",
        "                    int(key_points[self.mpFaceDetection.FaceKeyPoint.LEFT_EYE].x * img.shape[1]),\n",
        "                    int(key_points[self.mpFaceDetection.FaceKeyPoint.LEFT_EYE].y * img.shape[0])\n",
        "                )\n",
        "                right_eye = (\n",
        "                    int(key_points[self.mpFaceDetection.FaceKeyPoint.RIGHT_EYE].x * img.shape[1]),\n",
        "                    int(key_points[self.mpFaceDetection.FaceKeyPoint.RIGHT_EYE].y * img.shape[0])\n",
        "                )\n",
        "                delta_x = right_eye[0] - left_eye[0]\n",
        "                delta_y = right_eye[1] - left_eye[1]\n",
        "                alpha = np.degrees(np.arctan2(delta_y, delta_x))\n",
        "\n",
        "                box = detection.location_data.relative_bounding_box\n",
        "                ih, iw, ic = img.shape\n",
        "                x1 = int(box.xmin * img.shape[1])\n",
        "                y1 = int(box.ymin * img.shape[0])\n",
        "                x2 = int((box.xmin + box.width) * iw)\n",
        "                y2 = int((box.ymin + box.height) * ih)\n",
        "                faces.append([x1, y1, x2, y2])\n",
        "                # face_image = img[y1:y2, x1:x2]\n",
        "                face_image = img[y1-50:y2+50, x1-50:x2+50]\n",
        "                rotated_image = cv2.warpAffine(face_image,\n",
        "                                cv2.getRotationMatrix2D((face_image.shape[1] / 2, \n",
        "                                face_image.shape[0] / 2), alpha+180, 1.0),\n",
        "                                (face_image.shape[1], face_image.shape[0]))\n",
        "                #resize face to train facenet model\n",
        "                resized_image = cv2.resize(rotated_image, (160, 160))\n",
        "                # cv2.imshow(\"Cropped Face\", resized_image)\n",
        "\n",
        "                # Append the cropped face to the list\n",
        "                cropped_faces.append(resized_image)\n",
        "        return  faces,cropped_faces"
      ],
      "metadata": {
        "id": "NKf1KT3i_hlh"
      },
      "execution_count": 2,
      "outputs": []
    },
    {
      "cell_type": "code",
      "source": [
        "from deepface import DeepFace\n",
        "def deep_data_extract(img):\n",
        "    face_data=None\n",
        "    try:\n",
        "        embedding = DeepFace.represent(img, model_name='Facenet')\n",
        "        # print(embedding[0][\"embedding\"])\n",
        "        face_data=embedding[0][\"embedding\"]\n",
        "    except:\n",
        "        pass\n",
        "    return face_data"
      ],
      "metadata": {
        "id": "USXaA-pV_tsG"
      },
      "execution_count": 3,
      "outputs": []
    },
    {
      "cell_type": "code",
      "source": [
        "detector = FaceDetector(minDetectionCon=0.5)"
      ],
      "metadata": {
        "id": "h7Ni_v5g_3W2"
      },
      "execution_count": 4,
      "outputs": []
    },
    {
      "cell_type": "code",
      "source": [
        "import os\n",
        "import shutil\n",
        "if os.path.exists(\"./download\"):\n",
        "   shutil.rmtree(\"./download\")\n",
        "if not os.path.exists(\"./download\"):\n",
        "  os.mkdir(\"./download\")\n",
        "from bing_image_downloader import downloader\n",
        "def download_image(query,limit):\n",
        "  try:\n",
        "    downloader.download(query, limit=limit, output_dir='./download')\n",
        "  except:\n",
        "    pass\n",
        "celebrity_list=[\"celebrity\",\"women\",\"men\"]\n",
        "for i in celebrity_list:\n",
        "  download_image(i,100)    \n",
        "\n",
        "clear_output()  "
      ],
      "metadata": {
        "id": "zIVJOdyP_8wd"
      },
      "execution_count": 10,
      "outputs": []
    },
    {
      "cell_type": "code",
      "source": [
        "import string\n",
        "import random\n",
        "def generate_name():\n",
        "  # Define the length of the file name\n",
        "  length = 8\n",
        "  # Define the set of characters to choose from\n",
        "  chars = string.ascii_letters + string.digits\n",
        "  # Generate a random file name\n",
        "  file_name = ''.join(random.choice(chars) for _ in range(length))\n",
        "  # Print the file name\n",
        "  return  file_name\n",
        "\n",
        "  \n",
        "if os.path.exists(\"./dataset\"):\n",
        "    shutil.rmtree(\"./dataset\")\n",
        "#     os.mkdir(\"./output\")\n",
        "if not os.path.exists(\"./dataset\"):\n",
        "    os.makedirs(\"./dataset\")\n",
        "\n",
        "for i in os.listdir(\"./download\"):\n",
        "  for j in os.listdir(f\"./download/{i}\"):\n",
        "    try:\n",
        "      extenstion=j.split(\".\")[-1]\n",
        "      shutil.copy(f\"./download/{i}/{j}\",f\"./dataset/{generate_name()}.{extenstion}\")\n",
        "    except:\n",
        "      pass    "
      ],
      "metadata": {
        "id": "UC2JkH9yASQd"
      },
      "execution_count": 11,
      "outputs": []
    },
    {
      "cell_type": "code",
      "source": [
        "len(os.listdir(\"./dataset\"))"
      ],
      "metadata": {
        "colab": {
          "base_uri": "https://localhost:8080/"
        },
        "id": "BeR1RiE4Akno",
        "outputId": "e37db8c0-ce9e-4f3e-e18a-e68756ede358"
      },
      "execution_count": 5,
      "outputs": [
        {
          "output_type": "execute_result",
          "data": {
            "text/plain": [
              "300"
            ]
          },
          "metadata": {},
          "execution_count": 5
        }
      ]
    },
    {
      "cell_type": "code",
      "source": [
        "def utils(img):\n",
        "  # cv2_imshow(img)\n",
        "  faces,cropped_faces= detector.findFace(img)\n",
        "  if len(faces) != 0:\n",
        "    for frame in cropped_faces:\n",
        "      face_data=deep_data_extract(frame)\n",
        "      if face_data!=None:\n",
        "        # cv2_imshow(frame) \n",
        "        # print(face_data)\n",
        "        return face_data\n",
        "        \n"
      ],
      "metadata": {
        "id": "jCghSK6GDkfE"
      },
      "execution_count": 9,
      "outputs": []
    },
    {
      "cell_type": "code",
      "source": [
        "import csv\n",
        "def unknown_csv(face_data):\n",
        "    with open('unknown.csv', mode='a', newline='') as file:\n",
        "        writer = csv.writer(file)\n",
        "        writer.writerow([face_data, \"unknown\",0,\"None\",\"None\"])"
      ],
      "metadata": {
        "id": "mWfgUfIkEAH6"
      },
      "execution_count": 7,
      "outputs": []
    },
    {
      "cell_type": "code",
      "source": [
        "import cv2\n",
        "from google.colab.patches import cv2_imshow\n",
        "for i in os.listdir(\"./dataset\"):\n",
        "  img=cv2.imread(f\"./dataset/{i}\")\n",
        "  try:\n",
        "    face_data=utils(img)\n",
        "    if face_data!=None:\n",
        "      unknown_csv(face_data)\n",
        "  except:\n",
        "    pass\n"
      ],
      "metadata": {
        "id": "JIOLZaYICa91"
      },
      "execution_count": 11,
      "outputs": []
    }
  ]
}